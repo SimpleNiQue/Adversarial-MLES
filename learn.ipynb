{
 "cells": [
  {
   "cell_type": "markdown",
   "metadata": {},
   "source": [
    "### Importing dependencies"
   ]
  },
  {
   "cell_type": "code",
   "execution_count": 5,
   "metadata": {},
   "outputs": [],
   "source": [
    "import tensorflow as tf\n",
    "from tensorflow.keras.layers import Conv2D, MaxPool2D, Dense, Flatten\n",
    "import numpy as np\n",
    "import matplotlib.pyplot as plt\n",
    "import matplotlib\n",
    "from art.estimators.classification import KerasClassifier\n",
    "from art.attacks.evasion import  FastGradientMethod\n",
    "from art.utils import load_dataset\n",
    "\n",
    "# Disabling eager execution from TF 2\n",
    "tf.compat.v1.disable_eager_execution() #TODO: Learn about this\n",
    "\n",
    "# Increasing Matplotlib font size\n",
    "matplotlib.rcParams.update({\"font.size\": 14})"
   ]
  },
  {
   "cell_type": "markdown",
   "metadata": {},
   "source": [
    "### Loading data"
   ]
  },
  {
   "cell_type": "code",
   "execution_count": 8,
   "metadata": {},
   "outputs": [],
   "source": [
    "(train_images, train_labels), (test_images, test_labels), min, max = load_dataset(name=\"mnist\")"
   ]
  },
  {
   "cell_type": "markdown",
   "metadata": {},
   "source": [
    "### Training a TensorFlow Keras model"
   ]
  },
  {
   "cell_type": "code",
   "execution_count": 6,
   "metadata": {},
   "outputs": [],
   "source": [
    "# function for creating model\n",
    "def create_model():\n",
    "    # Defining the model\n",
    "    model = tf.keras.models.Sequential([\n",
    "        Conv2D(filters=32, kernel_size=3, activation=\"relu\", input_shape=(28, 28, 1)),\n",
    "        MaxPool2D(pool_size=2),\n",
    "        Conv2D(filters=64, kernel_size=3, activation=\"relu\"),\n",
    "        MaxPool2D(pool_size=2),\n",
    "        Flatten(),\n",
    "        Dense(units=10, activation=\"softmax\")\n",
    "    ])\n",
    "\n",
    "    # Compiling the model\n",
    "    model.compile(\n",
    "        optimizer=\"adam\",\n",
    "        loss=\"categorical_crossentropy\",\n",
    "        metrics=[\"accuracy\"]\n",
    "    )\n",
    "\n",
    "    # Returning the model\n",
    "    return model"
   ]
  },
  {
   "cell_type": "code",
   "execution_count": 9,
   "metadata": {},
   "outputs": [
    {
     "name": "stdout",
     "output_type": "stream",
     "text": [
      "Train on 60000 samples\n",
      "Epoch 1/10\n"
     ]
    },
    {
     "name": "stderr",
     "output_type": "stream",
     "text": [
      "2023-11-25 02:26:03.775093: I tensorflow/compiler/mlir/mlir_graph_optimization_pass.cc:388] MLIR V1 optimization pass is not enabled\n",
      "2023-11-25 02:26:03.826717: W tensorflow/c/c_api.cc:305] Operation '{name:'training/Adam/conv2d_3/bias/m/Assign' id:413 op device:{requested: '', assigned: ''} def:{{{node training/Adam/conv2d_3/bias/m/Assign}} = AssignVariableOp[_has_manual_control_dependencies=true, dtype=DT_FLOAT, validate_shape=false](training/Adam/conv2d_3/bias/m, training/Adam/conv2d_3/bias/m/Initializer/zeros)}}' was changed by setting attribute after it was run by a session. This mutation will have no effect, and will trigger an error in the future. Either don't modify nodes after running them or create a new session.\n"
     ]
    },
    {
     "name": "stdout",
     "output_type": "stream",
     "text": [
      "60000/60000 [==============================] - 31s 524us/sample - loss: 0.4011 - accuracy: 0.8922\n",
      "Epoch 2/10\n",
      "60000/60000 [==============================] - 35s 591us/sample - loss: 0.0922 - accuracy: 0.9728\n",
      "Epoch 3/10\n",
      "60000/60000 [==============================] - 36s 607us/sample - loss: 0.0657 - accuracy: 0.9804\n",
      "Epoch 4/10\n",
      "60000/60000 [==============================] - 42s 698us/sample - loss: 0.0543 - accuracy: 0.9836\n",
      "Epoch 5/10\n",
      "60000/60000 [==============================] - 37s 619us/sample - loss: 0.0467 - accuracy: 0.9856\n",
      "Epoch 6/10\n",
      "60000/60000 [==============================] - 35s 575us/sample - loss: 0.0405 - accuracy: 0.9876\n",
      "Epoch 7/10\n",
      "60000/60000 [==============================] - 35s 581us/sample - loss: 0.0368 - accuracy: 0.9889\n",
      "Epoch 8/10\n",
      "60000/60000 [==============================] - 36s 605us/sample - loss: 0.0325 - accuracy: 0.9901\n",
      "Epoch 9/10\n",
      "60000/60000 [==============================] - 33s 551us/sample - loss: 0.0298 - accuracy: 0.9908\n",
      "Epoch 10/10\n",
      "60000/60000 [==============================] - 33s 545us/sample - loss: 0.0273 - accuracy: 0.9913\n"
     ]
    },
    {
     "data": {
      "text/plain": [
       "<keras.src.callbacks.History at 0x7f2811c1c1c0>"
      ]
     },
     "execution_count": 9,
     "metadata": {},
     "output_type": "execute_result"
    }
   ],
   "source": [
    "# Instantiating the model\n",
    "model = create_model()\n",
    "\n",
    "# Training the model\n",
    "model.fit(\n",
    "    x=train_images,\n",
    "    y=train_labels,\n",
    "    epochs=10,\n",
    "    batch_size=256\n",
    ")"
   ]
  }
 ],
 "metadata": {
  "kernelspec": {
   "display_name": ".venv",
   "language": "python",
   "name": "python3"
  },
  "language_info": {
   "codemirror_mode": {
    "name": "ipython",
    "version": 3
   },
   "file_extension": ".py",
   "mimetype": "text/x-python",
   "name": "python",
   "nbconvert_exporter": "python",
   "pygments_lexer": "ipython3",
   "version": "3.10.13"
  }
 },
 "nbformat": 4,
 "nbformat_minor": 2
}
